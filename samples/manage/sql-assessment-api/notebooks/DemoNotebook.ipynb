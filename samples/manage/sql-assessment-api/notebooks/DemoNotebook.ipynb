{
    "metadata": {
        "kernelspec": {
            "name": "SQL",
            "display_name": "SQL",
            "language": "sql"
        },
        "language_info": {
            "name": "sql",
            "version": ""
        }
    },
    "nbformat_minor": 2,
    "nbformat": 4,
    "cells": [
        {
            "cell_type": "markdown",
            "source": "# SQLAssessment Demo\r\n",
            "metadata": {}
        },
        {
            "cell_type": "markdown",
            "source": "First, some setup and clean up",
            "metadata": {}
        },
        {
            "cell_type": "code",
            "source": "DBCC TRACEON( 634, -1)\r\nDBCC TRACEON( 652, -1)\r\nGO",
            "metadata": {},
            "outputs": [
                {
                    "output_type": "display_data",
                    "data": {
                        "text/html": "DBCC execution completed. If DBCC printed error messages, contact your system administrator."
                    },
                    "metadata": {}
                },
                {
                    "output_type": "display_data",
                    "data": {
                        "text/html": "Total execution time: 00:00:00.002"
                    },
                    "metadata": {}
                }
            ],
            "execution_count": 5
        },
        {
            "cell_type": "code",
            "source": "use SQLAssessmentDemo\r\nGO\r\nDELETE Assessment.Results\r\ngo",
            "metadata": {},
            "outputs": [
                {
                    "output_type": "display_data",
                    "data": {
                        "text/html": "Commands completed successfully."
                    },
                    "metadata": {}
                },
                {
                    "output_type": "display_data",
                    "data": {
                        "text/html": "(0 rows affected)"
                    },
                    "metadata": {}
                },
                {
                    "output_type": "display_data",
                    "data": {
                        "text/html": "Total execution time: 00:00:00.025"
                    },
                    "metadata": {}
                }
            ],
            "execution_count": 6
        },
        {
            "cell_type": "code",
            "source": "use SQLAssessmentDemo\r\ngo\r\nSELECT [TargetPath]\r\n      ,[HelpLink]\r\n      ,[Severity]\r\n      ,[CheckName]\r\n      ,[CheckId]\r\n      ,[Message]\r\n      ,[TargetType]\r\n  FROM [SQLAssessmentDemo].[Assessment].[Results]\r\n  go",
            "metadata": {},
            "outputs": [
                {
                    "output_type": "display_data",
                    "data": {
                        "text/html": "Commands completed successfully."
                    },
                    "metadata": {}
                },
                {
                    "output_type": "display_data",
                    "data": {
                        "text/html": "(0 rows affected)"
                    },
                    "metadata": {}
                },
                {
                    "output_type": "execute_result",
                    "metadata": {},
                    "execution_count": 3,
                    "data": {
                        "application/vnd.dataresource+json": {
                            "schema": {
                                "fields": [
                                    {
                                        "name": "TargetPath"
                                    },
                                    {
                                        "name": "HelpLink"
                                    },
                                    {
                                        "name": "Severity"
                                    },
                                    {
                                        "name": "CheckName"
                                    },
                                    {
                                        "name": "CheckId"
                                    },
                                    {
                                        "name": "Message"
                                    },
                                    {
                                        "name": "TargetType"
                                    }
                                ]
                            },
                            "data": []
                        },
                        "text/html": "<table><tr><th>TargetPath</th><th>HelpLink</th><th>Severity</th><th>CheckName</th><th>CheckId</th><th>Message</th><th>TargetType</th></tr></table>"
                    }
                },
                {
                    "output_type": "display_data",
                    "data": {
                        "text/html": "Total execution time: 00:00:00.012"
                    },
                    "metadata": {}
                }
            ],
            "execution_count": 3
        }
    ]
}